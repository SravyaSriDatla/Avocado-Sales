{
  "nbformat": 4,
  "nbformat_minor": 0,
  "metadata": {
    "colab": {
      "provenance": [],
      "authorship_tag": "ABX9TyNTOcoLZ2ByGumS7UtQXay9",
      "include_colab_link": true
    },
    "kernelspec": {
      "name": "python3",
      "display_name": "Python 3"
    },
    "language_info": {
      "name": "python"
    }
  },
  "cells": [
    {
      "cell_type": "markdown",
      "metadata": {
        "id": "view-in-github",
        "colab_type": "text"
      },
      "source": [
        "<a href=\"https://colab.research.google.com/github/SravyaSriDatla/Avocado-Sales/blob/main/LazyPrediction.ipynb\" target=\"_parent\"><img src=\"https://colab.research.google.com/assets/colab-badge.svg\" alt=\"Open In Colab\"/></a>"
      ]
    },
    {
      "cell_type": "code",
      "source": [
        "!pip install lazypredict"
      ],
      "metadata": {
        "colab": {
          "base_uri": "https://localhost:8080/"
        },
        "id": "YiJi4x-2TXsn",
        "outputId": "9cb8dc7c-7b67-4c49-8677-527a1a4cfda8"
      },
      "execution_count": 2,
      "outputs": [
        {
          "output_type": "stream",
          "name": "stdout",
          "text": [
            "Collecting lazypredict\n",
            "  Downloading lazypredict-0.2.13-py2.py3-none-any.whl.metadata (12 kB)\n",
            "Requirement already satisfied: click in /usr/local/lib/python3.10/dist-packages (from lazypredict) (8.1.7)\n",
            "Requirement already satisfied: scikit-learn in /usr/local/lib/python3.10/dist-packages (from lazypredict) (1.5.2)\n",
            "Requirement already satisfied: pandas in /usr/local/lib/python3.10/dist-packages (from lazypredict) (2.2.2)\n",
            "Requirement already satisfied: tqdm in /usr/local/lib/python3.10/dist-packages (from lazypredict) (4.66.6)\n",
            "Requirement already satisfied: joblib in /usr/local/lib/python3.10/dist-packages (from lazypredict) (1.4.2)\n",
            "Requirement already satisfied: lightgbm in /usr/local/lib/python3.10/dist-packages (from lazypredict) (4.5.0)\n",
            "Requirement already satisfied: xgboost in /usr/local/lib/python3.10/dist-packages (from lazypredict) (2.1.3)\n",
            "Requirement already satisfied: numpy>=1.17.0 in /usr/local/lib/python3.10/dist-packages (from lightgbm->lazypredict) (1.26.4)\n",
            "Requirement already satisfied: scipy in /usr/local/lib/python3.10/dist-packages (from lightgbm->lazypredict) (1.13.1)\n",
            "Requirement already satisfied: python-dateutil>=2.8.2 in /usr/local/lib/python3.10/dist-packages (from pandas->lazypredict) (2.8.2)\n",
            "Requirement already satisfied: pytz>=2020.1 in /usr/local/lib/python3.10/dist-packages (from pandas->lazypredict) (2024.2)\n",
            "Requirement already satisfied: tzdata>=2022.7 in /usr/local/lib/python3.10/dist-packages (from pandas->lazypredict) (2024.2)\n",
            "Requirement already satisfied: threadpoolctl>=3.1.0 in /usr/local/lib/python3.10/dist-packages (from scikit-learn->lazypredict) (3.5.0)\n",
            "Requirement already satisfied: nvidia-nccl-cu12 in /usr/local/lib/python3.10/dist-packages (from xgboost->lazypredict) (2.23.4)\n",
            "Requirement already satisfied: six>=1.5 in /usr/local/lib/python3.10/dist-packages (from python-dateutil>=2.8.2->pandas->lazypredict) (1.17.0)\n",
            "Downloading lazypredict-0.2.13-py2.py3-none-any.whl (12 kB)\n",
            "Installing collected packages: lazypredict\n",
            "Successfully installed lazypredict-0.2.13\n"
          ]
        }
      ]
    },
    {
      "cell_type": "code",
      "source": [
        "import pandas as pd\n",
        "import numpy as np\n",
        "\n",
        "from lazypredict.Supervised import LazyRegressor\n",
        "from sklearn import datasets\n",
        "from sklearn.utils import shuffle\n",
        "from sklearn.model_selection import train_test_split\n",
        "\n",
        "df = pd.read_csv('avocado.csv')\n",
        "\n",
        "df = df.drop(['Unnamed: 0','4046','4225','4770','Date'],axis=1)\n",
        "\n",
        "# split data into X and y\n",
        "X = df.drop(['AveragePrice'],axis=1)\n",
        "y = df['AveragePrice']\n",
        "\n",
        "X_train, X_test, y_train, y_test = train_test_split(X,y,test_size=0.30)\n",
        "\n",
        "reg = LazyRegressor(verbose=0, ignore_warnings=False, custom_metric=None)\n",
        "models, predictions = reg.fit(X_train, X_test, y_train, y_test)\n",
        "\n",
        "print(models)"
      ],
      "metadata": {
        "colab": {
          "base_uri": "https://localhost:8080/"
        },
        "id": "jctQpx6aTpXU",
        "outputId": "ea2f3148-832a-4b0c-db4a-58d66c445d05"
      },
      "execution_count": 4,
      "outputs": [
        {
          "output_type": "stream",
          "name": "stderr",
          "text": [
            "100%|██████████| 42/42 [03:14<00:00,  1.66s/it]"
          ]
        },
        {
          "output_type": "stream",
          "name": "stdout",
          "text": [
            "[LightGBM] [Info] Auto-choosing row-wise multi-threading, the overhead of testing was 0.001547 seconds.\n",
            "You can set `force_row_wise=true` to remove the overhead.\n",
            "And if memory is not enough, you can set `force_col_wise=true`.\n",
            "[LightGBM] [Info] Total Bins 1338\n",
            "[LightGBM] [Info] Number of data points in the train set: 12774, number of used features: 9\n",
            "[LightGBM] [Info] Start training from score 1.404540\n"
          ]
        },
        {
          "output_type": "stream",
          "name": "stderr",
          "text": [
            "\r100%|██████████| 42/42 [03:14<00:00,  4.64s/it]"
          ]
        },
        {
          "output_type": "stream",
          "name": "stdout",
          "text": [
            "                               Adjusted R-Squared        R-Squared      RMSE  \\\n",
            "Model                                                                          \n",
            "ExtraTreesRegressor                          0.84             0.84      0.16   \n",
            "KNeighborsRegressor                          0.84             0.84      0.16   \n",
            "RandomForestRegressor                        0.83             0.83      0.17   \n",
            "XGBRegressor                                 0.82             0.83      0.17   \n",
            "BaggingRegressor                             0.81             0.81      0.18   \n",
            "LGBMRegressor                                0.78             0.78      0.19   \n",
            "HistGradientBoostingRegressor                0.78             0.78      0.19   \n",
            "GradientBoostingRegressor                    0.66             0.66      0.24   \n",
            "DecisionTreeRegressor                        0.65             0.65      0.24   \n",
            "ExtraTreeRegressor                           0.62             0.63      0.25   \n",
            "MLPRegressor                                 0.49             0.49      0.29   \n",
            "AdaBoostRegressor                            0.43             0.43      0.30   \n",
            "NuSVR                                        0.41             0.41      0.31   \n",
            "SVR                                          0.41             0.41      0.31   \n",
            "KernelRidge                                  0.39             0.39      0.31   \n",
            "LassoCV                                      0.39             0.39      0.31   \n",
            "ElasticNetCV                                 0.39             0.39      0.31   \n",
            "Ridge                                        0.39             0.39      0.31   \n",
            "BayesianRidge                                0.39             0.39      0.31   \n",
            "RidgeCV                                      0.39             0.39      0.31   \n",
            "TransformedTargetRegressor                   0.39             0.39      0.31   \n",
            "LinearRegression                             0.39             0.39      0.31   \n",
            "OrthogonalMatchingPursuitCV                  0.39             0.39      0.31   \n",
            "HuberRegressor                               0.39             0.39      0.32   \n",
            "OrthogonalMatchingPursuit                    0.38             0.38      0.32   \n",
            "LassoLarsCV                                  0.34             0.34      0.33   \n",
            "LassoLarsIC                                  0.34             0.34      0.33   \n",
            "LinearSVR                                    0.33             0.33      0.33   \n",
            "PoissonRegressor                             0.27             0.27      0.35   \n",
            "GammaRegressor                               0.23             0.23      0.35   \n",
            "TweedieRegressor                             0.23             0.23      0.35   \n",
            "ElasticNet                                  -0.00            -0.00      0.40   \n",
            "DummyRegressor                              -0.00            -0.00      0.40   \n",
            "LassoLars                                   -0.00            -0.00      0.40   \n",
            "Lasso                                       -0.00            -0.00      0.40   \n",
            "QuantileRegressor                           -0.01            -0.01      0.41   \n",
            "RANSACRegressor                             -0.70            -0.70      0.53   \n",
            "PassiveAggressiveRegressor                  -3.95            -3.94      0.90   \n",
            "GaussianProcessRegressor                  -370.27          -369.73      7.77   \n",
            "SGDRegressor                           -333745.68       -333257.93    232.90   \n",
            "LarsCV                             -5211785249.46   -5204168464.29  29104.51   \n",
            "Lars                             -240342705566.86 -239991455723.13 197643.49   \n",
            "\n",
            "                               Time Taken  \n",
            "Model                                      \n",
            "ExtraTreesRegressor                  3.38  \n",
            "KNeighborsRegressor                  0.23  \n",
            "RandomForestRegressor                8.92  \n",
            "XGBRegressor                         0.41  \n",
            "BaggingRegressor                     0.93  \n",
            "LGBMRegressor                        0.29  \n",
            "HistGradientBoostingRegressor        0.72  \n",
            "GradientBoostingRegressor            3.49  \n",
            "DecisionTreeRegressor                0.22  \n",
            "ExtraTreeRegressor                   0.13  \n",
            "MLPRegressor                         4.14  \n",
            "AdaBoostRegressor                    1.29  \n",
            "NuSVR                               13.58  \n",
            "SVR                                 11.98  \n",
            "KernelRidge                         31.20  \n",
            "LassoCV                              0.47  \n",
            "ElasticNetCV                         0.55  \n",
            "Ridge                                0.05  \n",
            "BayesianRidge                        0.20  \n",
            "RidgeCV                              0.17  \n",
            "TransformedTargetRegressor           0.05  \n",
            "LinearRegression                     0.12  \n",
            "OrthogonalMatchingPursuitCV          0.09  \n",
            "HuberRegressor                       0.69  \n",
            "OrthogonalMatchingPursuit            0.05  \n",
            "LassoLarsCV                          0.10  \n",
            "LassoLarsIC                          0.10  \n",
            "LinearSVR                            1.03  \n",
            "PoissonRegressor                     0.08  \n",
            "GammaRegressor                       0.08  \n",
            "TweedieRegressor                     0.11  \n",
            "ElasticNet                           0.05  \n",
            "DummyRegressor                       0.04  \n",
            "LassoLars                            0.09  \n",
            "Lasso                                0.14  \n",
            "QuantileRegressor                    7.00  \n",
            "RANSACRegressor                      0.42  \n",
            "PassiveAggressiveRegressor           0.07  \n",
            "GaussianProcessRegressor           101.35  \n",
            "SGDRegressor                         0.29  \n",
            "LarsCV                               0.17  \n",
            "Lars                                 0.11  \n"
          ]
        },
        {
          "output_type": "stream",
          "name": "stderr",
          "text": [
            "\n"
          ]
        }
      ]
    },
    {
      "cell_type": "code",
      "source": [],
      "metadata": {
        "id": "6Sn2rIuOTt9s"
      },
      "execution_count": null,
      "outputs": []
    }
  ]
}